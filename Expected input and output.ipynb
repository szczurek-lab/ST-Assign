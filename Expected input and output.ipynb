{
 "cells": [
  {
   "cell_type": "code",
   "execution_count": 12,
   "id": "ccc3675b",
   "metadata": {},
   "outputs": [],
   "source": [
    "INPUT_PATH <- \"/home/aga/Desktop/ST-Assign-repo/test-example/data/\"\n",
    "OUTPUT_PATH <- \"/home/aga/Desktop/ST-Assign-repo/test-example/results/\""
   ]
  },
  {
   "cell_type": "markdown",
   "id": "f56959c6",
   "metadata": {},
   "source": [
    "## ST-Assign's expected input\n",
    "\n",
    "1. Spatial transcriptomics (ST) gene expression data  `C_gs.csv`.\n",
    "2. Single-cell RNA-seq data (scRNA-seq) gene expression data `C_gs.csv`.\n",
    "3. Matrix $B$ - binary matrix representing pror knowlegde about marker genes `matB.csv`.\n",
    "4. Cell counts in ST spots estimated from H&E images `n_cells.csv`."
   ]
  },
  {
   "cell_type": "markdown",
   "id": "438be3b1",
   "metadata": {},
   "source": [
    "#### 1. Spatial transcriptomics (ST) gene expression data (`C_gs.csv`)\n",
    "\n",
    "**Dimensions:** number of genes vs. number of spots \\\n",
    "Each row corresponds to a gene, and each column corresponds to a ST spot."
   ]
  },
  {
   "cell_type": "code",
   "execution_count": 13,
   "id": "f7dc8f2e",
   "metadata": {},
   "outputs": [
    {
     "data": {
      "text/html": [
       "<table class=\"dataframe\">\n",
       "<caption>A data.frame: 5 × 5</caption>\n",
       "<thead>\n",
       "\t<tr><th></th><th scope=col>X102x50</th><th scope=col>X79x35</th><th scope=col>X67x45</th><th scope=col>X62x24</th><th scope=col>X94x44</th></tr>\n",
       "\t<tr><th></th><th scope=col>&lt;int&gt;</th><th scope=col>&lt;int&gt;</th><th scope=col>&lt;int&gt;</th><th scope=col>&lt;int&gt;</th><th scope=col>&lt;int&gt;</th></tr>\n",
       "</thead>\n",
       "<tbody>\n",
       "\t<tr><th scope=row>Slc1a3</th><td> 2</td><td> 7</td><td>10</td><td>10</td><td>5</td></tr>\n",
       "\t<tr><th scope=row>Gja1</th><td> 2</td><td> 0</td><td> 3</td><td> 3</td><td>2</td></tr>\n",
       "\t<tr><th scope=row>Atp1a2</th><td>11</td><td>14</td><td> 8</td><td>18</td><td>7</td></tr>\n",
       "\t<tr><th scope=row>Atp1b2</th><td> 5</td><td> 4</td><td> 2</td><td> 9</td><td>3</td></tr>\n",
       "\t<tr><th scope=row>Bcan</th><td> 5</td><td> 3</td><td> 6</td><td> 4</td><td>3</td></tr>\n",
       "</tbody>\n",
       "</table>\n"
      ],
      "text/latex": [
       "A data.frame: 5 × 5\n",
       "\\begin{tabular}{r|lllll}\n",
       "  & X102x50 & X79x35 & X67x45 & X62x24 & X94x44\\\\\n",
       "  & <int> & <int> & <int> & <int> & <int>\\\\\n",
       "\\hline\n",
       "\tSlc1a3 &  2 &  7 & 10 & 10 & 5\\\\\n",
       "\tGja1 &  2 &  0 &  3 &  3 & 2\\\\\n",
       "\tAtp1a2 & 11 & 14 &  8 & 18 & 7\\\\\n",
       "\tAtp1b2 &  5 &  4 &  2 &  9 & 3\\\\\n",
       "\tBcan &  5 &  3 &  6 &  4 & 3\\\\\n",
       "\\end{tabular}\n"
      ],
      "text/markdown": [
       "\n",
       "A data.frame: 5 × 5\n",
       "\n",
       "| <!--/--> | X102x50 &lt;int&gt; | X79x35 &lt;int&gt; | X67x45 &lt;int&gt; | X62x24 &lt;int&gt; | X94x44 &lt;int&gt; |\n",
       "|---|---|---|---|---|---|\n",
       "| Slc1a3 |  2 |  7 | 10 | 10 | 5 |\n",
       "| Gja1 |  2 |  0 |  3 |  3 | 2 |\n",
       "| Atp1a2 | 11 | 14 |  8 | 18 | 7 |\n",
       "| Atp1b2 |  5 |  4 |  2 |  9 | 3 |\n",
       "| Bcan |  5 |  3 |  6 |  4 | 3 |\n",
       "\n"
      ],
      "text/plain": [
       "       X102x50 X79x35 X67x45 X62x24 X94x44\n",
       "Slc1a3  2       7     10     10     5     \n",
       "Gja1    2       0      3      3     2     \n",
       "Atp1a2 11      14      8     18     7     \n",
       "Atp1b2  5       4      2      9     3     \n",
       "Bcan    5       3      6      4     3     "
      ]
     },
     "metadata": {},
     "output_type": "display_data"
    }
   ],
   "source": [
    "ST <- read.csv(paste0(INPUT_PATH, \"C_gs.csv\"), row.names=1)\n",
    "ST[1:5,1:5]"
   ]
  },
  {
   "cell_type": "markdown",
   "id": "475f3103",
   "metadata": {},
   "source": [
    "#### 2. Single-cell RNA-seq data (scRNA-seq) gene expression data `C_gs.csv`\n",
    "\n",
    "**Dimensions:** number of genes vs. number of cells \\\n",
    "Each row corresponds to a gene, and each column corresponds to a cell."
   ]
  },
  {
   "cell_type": "code",
   "execution_count": 14,
   "id": "6eb4353c",
   "metadata": {},
   "outputs": [
    {
     "data": {
      "text/html": [
       "<table class=\"dataframe\">\n",
       "<caption>A data.frame: 5 × 5</caption>\n",
       "<thead>\n",
       "\t<tr><th></th><th scope=col>X10X55_4_AGATGGTTGGACCC.</th><th scope=col>X10X55_2_ATTGCCAGACGTAG.</th><th scope=col>X10X33_1_CATCTTGATCGCCT.1</th><th scope=col>X10X55_3_ACATCCAGCTTAAC.</th><th scope=col>X10X54_4_AACGTAGAGTGACC.</th></tr>\n",
       "\t<tr><th></th><th scope=col>&lt;int&gt;</th><th scope=col>&lt;int&gt;</th><th scope=col>&lt;int&gt;</th><th scope=col>&lt;int&gt;</th><th scope=col>&lt;int&gt;</th></tr>\n",
       "</thead>\n",
       "<tbody>\n",
       "\t<tr><th scope=row>Slc1a3</th><td>0</td><td>0</td><td>0</td><td>0</td><td>1</td></tr>\n",
       "\t<tr><th scope=row>Gja1</th><td>0</td><td>0</td><td>0</td><td>0</td><td>0</td></tr>\n",
       "\t<tr><th scope=row>Atp1a2</th><td>0</td><td>0</td><td>0</td><td>1</td><td>2</td></tr>\n",
       "\t<tr><th scope=row>Atp1b2</th><td>0</td><td>0</td><td>0</td><td>1</td><td>0</td></tr>\n",
       "\t<tr><th scope=row>Bcan</th><td>0</td><td>0</td><td>0</td><td>0</td><td>0</td></tr>\n",
       "</tbody>\n",
       "</table>\n"
      ],
      "text/latex": [
       "A data.frame: 5 × 5\n",
       "\\begin{tabular}{r|lllll}\n",
       "  & X10X55\\_4\\_AGATGGTTGGACCC. & X10X55\\_2\\_ATTGCCAGACGTAG. & X10X33\\_1\\_CATCTTGATCGCCT.1 & X10X55\\_3\\_ACATCCAGCTTAAC. & X10X54\\_4\\_AACGTAGAGTGACC.\\\\\n",
       "  & <int> & <int> & <int> & <int> & <int>\\\\\n",
       "\\hline\n",
       "\tSlc1a3 & 0 & 0 & 0 & 0 & 1\\\\\n",
       "\tGja1 & 0 & 0 & 0 & 0 & 0\\\\\n",
       "\tAtp1a2 & 0 & 0 & 0 & 1 & 2\\\\\n",
       "\tAtp1b2 & 0 & 0 & 0 & 1 & 0\\\\\n",
       "\tBcan & 0 & 0 & 0 & 0 & 0\\\\\n",
       "\\end{tabular}\n"
      ],
      "text/markdown": [
       "\n",
       "A data.frame: 5 × 5\n",
       "\n",
       "| <!--/--> | X10X55_4_AGATGGTTGGACCC. &lt;int&gt; | X10X55_2_ATTGCCAGACGTAG. &lt;int&gt; | X10X33_1_CATCTTGATCGCCT.1 &lt;int&gt; | X10X55_3_ACATCCAGCTTAAC. &lt;int&gt; | X10X54_4_AACGTAGAGTGACC. &lt;int&gt; |\n",
       "|---|---|---|---|---|---|\n",
       "| Slc1a3 | 0 | 0 | 0 | 0 | 1 |\n",
       "| Gja1 | 0 | 0 | 0 | 0 | 0 |\n",
       "| Atp1a2 | 0 | 0 | 0 | 1 | 2 |\n",
       "| Atp1b2 | 0 | 0 | 0 | 1 | 0 |\n",
       "| Bcan | 0 | 0 | 0 | 0 | 0 |\n",
       "\n"
      ],
      "text/plain": [
       "       X10X55_4_AGATGGTTGGACCC. X10X55_2_ATTGCCAGACGTAG.\n",
       "Slc1a3 0                        0                       \n",
       "Gja1   0                        0                       \n",
       "Atp1a2 0                        0                       \n",
       "Atp1b2 0                        0                       \n",
       "Bcan   0                        0                       \n",
       "       X10X33_1_CATCTTGATCGCCT.1 X10X55_3_ACATCCAGCTTAAC.\n",
       "Slc1a3 0                         0                       \n",
       "Gja1   0                         0                       \n",
       "Atp1a2 0                         1                       \n",
       "Atp1b2 0                         1                       \n",
       "Bcan   0                         0                       \n",
       "       X10X54_4_AACGTAGAGTGACC.\n",
       "Slc1a3 1                       \n",
       "Gja1   0                       \n",
       "Atp1a2 2                       \n",
       "Atp1b2 0                       \n",
       "Bcan   0                       "
      ]
     },
     "metadata": {},
     "output_type": "display_data"
    }
   ],
   "source": [
    "SC <- read.csv(paste0(INPUT_PATH, \"C_gc.csv\"), row.names=1)\n",
    "SC[1:5,1:5]"
   ]
  },
  {
   "cell_type": "markdown",
   "id": "197ce791",
   "metadata": {},
   "source": [
    "<span style=\"color:red\">**Ensure genes (rows) in `C_gc.csv` and `C_gs.csv` are arranged in the same order.**</span>"
   ]
  },
  {
   "cell_type": "code",
   "execution_count": 15,
   "id": "95e33620",
   "metadata": {},
   "outputs": [
    {
     "data": {
      "text/html": [
       "TRUE"
      ],
      "text/latex": [
       "TRUE"
      ],
      "text/markdown": [
       "TRUE"
      ],
      "text/plain": [
       "[1] TRUE"
      ]
     },
     "metadata": {},
     "output_type": "display_data"
    }
   ],
   "source": [
    "all(rownames(SC)==rownames(ST))"
   ]
  },
  {
   "cell_type": "markdown",
   "id": "7d088104",
   "metadata": {},
   "source": [
    "#### 3. Matrix $B$ - binary matrix representing pror knowlegde about marker genes `matB.csv`.\n",
    "**Dimensions:** number of genes vs. number of cell types \\\n",
    "Each row corresponds to a gene, and each column corresponds to a cell type."
   ]
  },
  {
   "cell_type": "code",
   "execution_count": 16,
   "id": "1c94efb8",
   "metadata": {},
   "outputs": [
    {
     "data": {
      "text/html": [
       "<table class=\"dataframe\">\n",
       "<caption>A data.frame: 6 × 7</caption>\n",
       "<thead>\n",
       "\t<tr><th></th><th scope=col>ASC</th><th scope=col>CPC</th><th scope=col>GABA</th><th scope=col>GLUT</th><th scope=col>MG</th><th scope=col>OLG</th><th scope=col>DT</th></tr>\n",
       "\t<tr><th></th><th scope=col>&lt;int&gt;</th><th scope=col>&lt;int&gt;</th><th scope=col>&lt;int&gt;</th><th scope=col>&lt;int&gt;</th><th scope=col>&lt;int&gt;</th><th scope=col>&lt;int&gt;</th><th scope=col>&lt;int&gt;</th></tr>\n",
       "</thead>\n",
       "<tbody>\n",
       "\t<tr><th scope=row>Slc1a3</th><td>1</td><td>0</td><td>0</td><td>0</td><td>0</td><td>0</td><td>0</td></tr>\n",
       "\t<tr><th scope=row>Gja1</th><td>1</td><td>0</td><td>0</td><td>0</td><td>0</td><td>0</td><td>0</td></tr>\n",
       "\t<tr><th scope=row>Atp1a2</th><td>1</td><td>0</td><td>0</td><td>0</td><td>0</td><td>0</td><td>0</td></tr>\n",
       "\t<tr><th scope=row>Atp1b2</th><td>1</td><td>0</td><td>0</td><td>0</td><td>0</td><td>0</td><td>0</td></tr>\n",
       "\t<tr><th scope=row>Bcan</th><td>1</td><td>0</td><td>0</td><td>0</td><td>0</td><td>0</td><td>0</td></tr>\n",
       "\t<tr><th scope=row>Apoe</th><td>1</td><td>0</td><td>0</td><td>0</td><td>0</td><td>0</td><td>0</td></tr>\n",
       "</tbody>\n",
       "</table>\n"
      ],
      "text/latex": [
       "A data.frame: 6 × 7\n",
       "\\begin{tabular}{r|lllllll}\n",
       "  & ASC & CPC & GABA & GLUT & MG & OLG & DT\\\\\n",
       "  & <int> & <int> & <int> & <int> & <int> & <int> & <int>\\\\\n",
       "\\hline\n",
       "\tSlc1a3 & 1 & 0 & 0 & 0 & 0 & 0 & 0\\\\\n",
       "\tGja1 & 1 & 0 & 0 & 0 & 0 & 0 & 0\\\\\n",
       "\tAtp1a2 & 1 & 0 & 0 & 0 & 0 & 0 & 0\\\\\n",
       "\tAtp1b2 & 1 & 0 & 0 & 0 & 0 & 0 & 0\\\\\n",
       "\tBcan & 1 & 0 & 0 & 0 & 0 & 0 & 0\\\\\n",
       "\tApoe & 1 & 0 & 0 & 0 & 0 & 0 & 0\\\\\n",
       "\\end{tabular}\n"
      ],
      "text/markdown": [
       "\n",
       "A data.frame: 6 × 7\n",
       "\n",
       "| <!--/--> | ASC &lt;int&gt; | CPC &lt;int&gt; | GABA &lt;int&gt; | GLUT &lt;int&gt; | MG &lt;int&gt; | OLG &lt;int&gt; | DT &lt;int&gt; |\n",
       "|---|---|---|---|---|---|---|---|\n",
       "| Slc1a3 | 1 | 0 | 0 | 0 | 0 | 0 | 0 |\n",
       "| Gja1 | 1 | 0 | 0 | 0 | 0 | 0 | 0 |\n",
       "| Atp1a2 | 1 | 0 | 0 | 0 | 0 | 0 | 0 |\n",
       "| Atp1b2 | 1 | 0 | 0 | 0 | 0 | 0 | 0 |\n",
       "| Bcan | 1 | 0 | 0 | 0 | 0 | 0 | 0 |\n",
       "| Apoe | 1 | 0 | 0 | 0 | 0 | 0 | 0 |\n",
       "\n"
      ],
      "text/plain": [
       "       ASC CPC GABA GLUT MG OLG DT\n",
       "Slc1a3 1   0   0    0    0  0   0 \n",
       "Gja1   1   0   0    0    0  0   0 \n",
       "Atp1a2 1   0   0    0    0  0   0 \n",
       "Atp1b2 1   0   0    0    0  0   0 \n",
       "Bcan   1   0   0    0    0  0   0 \n",
       "Apoe   1   0   0    0    0  0   0 "
      ]
     },
     "metadata": {},
     "output_type": "display_data"
    }
   ],
   "source": [
    "matB <- read.csv(paste0(INPUT_PATH, \"matB.csv\"), row.names=1)\n",
    "head(matB)"
   ]
  },
  {
   "cell_type": "markdown",
   "id": "12d3b92a",
   "metadata": {},
   "source": [
    "<span style=\"color:red\">**Ensure genes (rows)  in `matB.csv` are in the same order as in genes (rows) in `C_gs.csv` and `C_gc.csv`.**</span>"
   ]
  },
  {
   "cell_type": "code",
   "execution_count": 17,
   "id": "96a0df17",
   "metadata": {},
   "outputs": [
    {
     "data": {
      "text/html": [
       "TRUE"
      ],
      "text/latex": [
       "TRUE"
      ],
      "text/markdown": [
       "TRUE"
      ],
      "text/plain": [
       "[1] TRUE"
      ]
     },
     "metadata": {},
     "output_type": "display_data"
    }
   ],
   "source": [
    "all(rownames(SC)==rownames(matB))"
   ]
  },
  {
   "cell_type": "code",
   "execution_count": 18,
   "id": "7b268de3",
   "metadata": {},
   "outputs": [
    {
     "data": {
      "text/html": [
       "TRUE"
      ],
      "text/latex": [
       "TRUE"
      ],
      "text/markdown": [
       "TRUE"
      ],
      "text/plain": [
       "[1] TRUE"
      ]
     },
     "metadata": {},
     "output_type": "display_data"
    }
   ],
   "source": [
    "all(rownames(ST)==rownames(matB))"
   ]
  },
  {
   "cell_type": "markdown",
   "id": "9017d67c",
   "metadata": {},
   "source": [
    "#### 4. Estimated Cell Counts in Spatial Transcriptomics (ST) Spots (`n_cells.csv`)\n",
    "\n",
    "The `n_cells.csv` data frame consists of two columns: \n",
    "1. `spotId`: ST spots coordinates.\n",
    "2. Corresponding cell counts estimated from H&E images.\n",
    "\n",
    "Generated by the software available at [szczurek-lab/qupath-spot-utils](https://github.com/szczurek-lab/qupath-spot-utils)"
   ]
  },
  {
   "cell_type": "code",
   "execution_count": 19,
   "id": "9f9bf1a0",
   "metadata": {},
   "outputs": [
    {
     "data": {
      "text/html": [
       "<table class=\"dataframe\">\n",
       "<caption>A data.frame: 6 × 2</caption>\n",
       "<thead>\n",
       "\t<tr><th></th><th scope=col>spotId</th><th scope=col>cellCount</th></tr>\n",
       "\t<tr><th></th><th scope=col>&lt;chr&gt;</th><th scope=col>&lt;int&gt;</th></tr>\n",
       "</thead>\n",
       "<tbody>\n",
       "\t<tr><th scope=row>1</th><td>X102x50</td><td>12</td></tr>\n",
       "\t<tr><th scope=row>12</th><td>X79x35 </td><td>13</td></tr>\n",
       "\t<tr><th scope=row>17</th><td>X67x45 </td><td>16</td></tr>\n",
       "\t<tr><th scope=row>22</th><td>X62x24 </td><td>10</td></tr>\n",
       "\t<tr><th scope=row>24</th><td>X94x44 </td><td>12</td></tr>\n",
       "\t<tr><th scope=row>25</th><td>X96x42 </td><td>13</td></tr>\n",
       "</tbody>\n",
       "</table>\n"
      ],
      "text/latex": [
       "A data.frame: 6 × 2\n",
       "\\begin{tabular}{r|ll}\n",
       "  & spotId & cellCount\\\\\n",
       "  & <chr> & <int>\\\\\n",
       "\\hline\n",
       "\t1 & X102x50 & 12\\\\\n",
       "\t12 & X79x35  & 13\\\\\n",
       "\t17 & X67x45  & 16\\\\\n",
       "\t22 & X62x24  & 10\\\\\n",
       "\t24 & X94x44  & 12\\\\\n",
       "\t25 & X96x42  & 13\\\\\n",
       "\\end{tabular}\n"
      ],
      "text/markdown": [
       "\n",
       "A data.frame: 6 × 2\n",
       "\n",
       "| <!--/--> | spotId &lt;chr&gt; | cellCount &lt;int&gt; |\n",
       "|---|---|---|\n",
       "| 1 | X102x50 | 12 |\n",
       "| 12 | X79x35  | 13 |\n",
       "| 17 | X67x45  | 16 |\n",
       "| 22 | X62x24  | 10 |\n",
       "| 24 | X94x44  | 12 |\n",
       "| 25 | X96x42  | 13 |\n",
       "\n"
      ],
      "text/plain": [
       "   spotId  cellCount\n",
       "1  X102x50 12       \n",
       "12 X79x35  13       \n",
       "17 X67x45  16       \n",
       "22 X62x24  10       \n",
       "24 X94x44  12       \n",
       "25 X96x42  13       "
      ]
     },
     "metadata": {},
     "output_type": "display_data"
    }
   ],
   "source": [
    "n_cells <- read.csv(paste0(INPUT_PATH, \"n_cells.csv\"), row.names=1)\n",
    "head(n_cells)"
   ]
  },
  {
   "cell_type": "markdown",
   "id": "d094915e",
   "metadata": {},
   "source": [
    "<span style=\"color:red\">**Ensure spots (rows)  in `n_cells.csv` are in the same order as in genes (columns) in `C_gs.csv`.**</span>"
   ]
  },
  {
   "cell_type": "code",
   "execution_count": 11,
   "id": "c62aa276",
   "metadata": {},
   "outputs": [
    {
     "data": {
      "text/html": [
       "TRUE"
      ],
      "text/latex": [
       "TRUE"
      ],
      "text/markdown": [
       "TRUE"
      ],
      "text/plain": [
       "[1] TRUE"
      ]
     },
     "metadata": {},
     "output_type": "display_data"
    }
   ],
   "source": [
    "all(n_cells$spotId == colnames(ST))"
   ]
  },
  {
   "cell_type": "markdown",
   "id": "19181fa5",
   "metadata": {},
   "source": [
    "## ST-Assign's output\n",
    "\n",
    "1. `est_M.csv` estimates for the number of cells of each considered cell type in each ST spot.\n",
    "2. `res_TC.csv` results of cell type annotation in scRNA-seq data.\n",
    "\n",
    "#### 1. Estimating number of cell of each cell type in each spot\n",
    "**Dimensions:** number of spots vs. number of cell types. \\\n",
    "`est_M.csv` data frame presents estimates for the number of cells of each considered cell type ($M_{st}$), averaged over trajectories (without the burn-in period). "
   ]
  },
  {
   "cell_type": "code",
   "execution_count": 22,
   "id": "734cb25f",
   "metadata": {},
   "outputs": [],
   "source": [
    "est_M <- read.csv(paste0(OUTPUT_PATH, \"est_M.csv\"), header=FALSE)"
   ]
  },
  {
   "cell_type": "code",
   "execution_count": 23,
   "id": "644e8d82",
   "metadata": {},
   "outputs": [
    {
     "data": {
      "text/html": [
       "<style>\n",
       ".list-inline {list-style: none; margin:0; padding: 0}\n",
       ".list-inline>li {display: inline-block}\n",
       ".list-inline>li:not(:last-child)::after {content: \"\\00b7\"; padding: 0 .5ex}\n",
       "</style>\n",
       "<ol class=list-inline><li>893</li><li>7</li></ol>\n"
      ],
      "text/latex": [
       "\\begin{enumerate*}\n",
       "\\item 893\n",
       "\\item 7\n",
       "\\end{enumerate*}\n"
      ],
      "text/markdown": [
       "1. 893\n",
       "2. 7\n",
       "\n",
       "\n"
      ],
      "text/plain": [
       "[1] 893   7"
      ]
     },
     "metadata": {},
     "output_type": "display_data"
    }
   ],
   "source": [
    "dim(est_M)"
   ]
  },
  {
   "cell_type": "code",
   "execution_count": 25,
   "id": "1c92e15d",
   "metadata": {},
   "outputs": [
    {
     "data": {
      "text/html": [
       "<table class=\"dataframe\">\n",
       "<caption>A data.frame: 6 × 7</caption>\n",
       "<thead>\n",
       "\t<tr><th></th><th scope=col>V1</th><th scope=col>V2</th><th scope=col>V3</th><th scope=col>V4</th><th scope=col>V5</th><th scope=col>V6</th><th scope=col>V7</th></tr>\n",
       "\t<tr><th></th><th scope=col>&lt;dbl&gt;</th><th scope=col>&lt;dbl&gt;</th><th scope=col>&lt;dbl&gt;</th><th scope=col>&lt;dbl&gt;</th><th scope=col>&lt;dbl&gt;</th><th scope=col>&lt;dbl&gt;</th><th scope=col>&lt;dbl&gt;</th></tr>\n",
       "</thead>\n",
       "<tbody>\n",
       "\t<tr><th scope=row>1</th><td>4.168168</td><td>0</td><td> 0.2152152</td><td> 1.654655</td><td>2.157157</td><td>5.885886</td><td>0.76876880</td></tr>\n",
       "\t<tr><th scope=row>2</th><td>3.814815</td><td>2</td><td>11.8148150</td><td> 2.000000</td><td>4.000000</td><td>3.000000</td><td>0.00000000</td></tr>\n",
       "\t<tr><th scope=row>3</th><td>6.000000</td><td>0</td><td>11.0000000</td><td> 2.000000</td><td>6.000000</td><td>3.000000</td><td>0.00000000</td></tr>\n",
       "\t<tr><th scope=row>4</th><td>5.087087</td><td>0</td><td> 1.0000000</td><td>11.000000</td><td>5.912913</td><td>1.000000</td><td>0.08708709</td></tr>\n",
       "\t<tr><th scope=row>5</th><td>3.340340</td><td>0</td><td> 3.6596596</td><td> 1.000000</td><td>2.172172</td><td>4.000000</td><td>2.02102110</td></tr>\n",
       "\t<tr><th scope=row>6</th><td>5.517518</td><td>1</td><td> 5.0000000</td><td> 1.000000</td><td>4.000000</td><td>5.325325</td><td>0.00000000</td></tr>\n",
       "</tbody>\n",
       "</table>\n"
      ],
      "text/latex": [
       "A data.frame: 6 × 7\n",
       "\\begin{tabular}{r|lllllll}\n",
       "  & V1 & V2 & V3 & V4 & V5 & V6 & V7\\\\\n",
       "  & <dbl> & <dbl> & <dbl> & <dbl> & <dbl> & <dbl> & <dbl>\\\\\n",
       "\\hline\n",
       "\t1 & 4.168168 & 0 &  0.2152152 &  1.654655 & 2.157157 & 5.885886 & 0.76876880\\\\\n",
       "\t2 & 3.814815 & 2 & 11.8148150 &  2.000000 & 4.000000 & 3.000000 & 0.00000000\\\\\n",
       "\t3 & 6.000000 & 0 & 11.0000000 &  2.000000 & 6.000000 & 3.000000 & 0.00000000\\\\\n",
       "\t4 & 5.087087 & 0 &  1.0000000 & 11.000000 & 5.912913 & 1.000000 & 0.08708709\\\\\n",
       "\t5 & 3.340340 & 0 &  3.6596596 &  1.000000 & 2.172172 & 4.000000 & 2.02102110\\\\\n",
       "\t6 & 5.517518 & 1 &  5.0000000 &  1.000000 & 4.000000 & 5.325325 & 0.00000000\\\\\n",
       "\\end{tabular}\n"
      ],
      "text/markdown": [
       "\n",
       "A data.frame: 6 × 7\n",
       "\n",
       "| <!--/--> | V1 &lt;dbl&gt; | V2 &lt;dbl&gt; | V3 &lt;dbl&gt; | V4 &lt;dbl&gt; | V5 &lt;dbl&gt; | V6 &lt;dbl&gt; | V7 &lt;dbl&gt; |\n",
       "|---|---|---|---|---|---|---|---|\n",
       "| 1 | 4.168168 | 0 |  0.2152152 |  1.654655 | 2.157157 | 5.885886 | 0.76876880 |\n",
       "| 2 | 3.814815 | 2 | 11.8148150 |  2.000000 | 4.000000 | 3.000000 | 0.00000000 |\n",
       "| 3 | 6.000000 | 0 | 11.0000000 |  2.000000 | 6.000000 | 3.000000 | 0.00000000 |\n",
       "| 4 | 5.087087 | 0 |  1.0000000 | 11.000000 | 5.912913 | 1.000000 | 0.08708709 |\n",
       "| 5 | 3.340340 | 0 |  3.6596596 |  1.000000 | 2.172172 | 4.000000 | 2.02102110 |\n",
       "| 6 | 5.517518 | 1 |  5.0000000 |  1.000000 | 4.000000 | 5.325325 | 0.00000000 |\n",
       "\n"
      ],
      "text/plain": [
       "  V1       V2 V3         V4        V5       V6       V7        \n",
       "1 4.168168 0   0.2152152  1.654655 2.157157 5.885886 0.76876880\n",
       "2 3.814815 2  11.8148150  2.000000 4.000000 3.000000 0.00000000\n",
       "3 6.000000 0  11.0000000  2.000000 6.000000 3.000000 0.00000000\n",
       "4 5.087087 0   1.0000000 11.000000 5.912913 1.000000 0.08708709\n",
       "5 3.340340 0   3.6596596  1.000000 2.172172 4.000000 2.02102110\n",
       "6 5.517518 1   5.0000000  1.000000 4.000000 5.325325 0.00000000"
      ]
     },
     "metadata": {},
     "output_type": "display_data"
    }
   ],
   "source": [
    "head(est_M)"
   ]
  },
  {
   "cell_type": "markdown",
   "id": "90cb7187",
   "metadata": {},
   "source": [
    "#### 2. Single cell annotation in scRNA-seq data\n",
    "\n",
    "**Dimensions:** 1 in 100 iterations vs. number of cells\\\n",
    "`res_TC.csv` data frame represents the outcomes of cell type annotation ($T_c$) from every 1 in 100 iterations."
   ]
  },
  {
   "cell_type": "code",
   "execution_count": 23,
   "id": "5133c340",
   "metadata": {},
   "outputs": [],
   "source": [
    "res_TC <- read.csv(paste0(OUTPUT_PATH, \"res_TC.csv\"), header=FALSE)"
   ]
  },
  {
   "cell_type": "code",
   "execution_count": 24,
   "id": "03addd59",
   "metadata": {},
   "outputs": [
    {
     "data": {
      "text/html": [
       "<style>\n",
       ".list-inline {list-style: none; margin:0; padding: 0}\n",
       ".list-inline>li {display: inline-block}\n",
       ".list-inline>li:not(:last-child)::after {content: \"\\00b7\"; padding: 0 .5ex}\n",
       "</style>\n",
       "<ol class=list-inline><li>50</li><li>5450</li></ol>\n"
      ],
      "text/latex": [
       "\\begin{enumerate*}\n",
       "\\item 50\n",
       "\\item 5450\n",
       "\\end{enumerate*}\n"
      ],
      "text/markdown": [
       "1. 50\n",
       "2. 5450\n",
       "\n",
       "\n"
      ],
      "text/plain": [
       "[1]   50 5450"
      ]
     },
     "metadata": {},
     "output_type": "display_data"
    }
   ],
   "source": [
    "dim(res_TC)"
   ]
  },
  {
   "cell_type": "code",
   "execution_count": 27,
   "id": "c8931895",
   "metadata": {},
   "outputs": [
    {
     "data": {
      "text/html": [
       "<table class=\"dataframe\">\n",
       "<caption>A data.frame: 5 × 5</caption>\n",
       "<thead>\n",
       "\t<tr><th></th><th scope=col>V1</th><th scope=col>V2</th><th scope=col>V3</th><th scope=col>V4</th><th scope=col>V5</th></tr>\n",
       "\t<tr><th></th><th scope=col>&lt;int&gt;</th><th scope=col>&lt;int&gt;</th><th scope=col>&lt;int&gt;</th><th scope=col>&lt;int&gt;</th><th scope=col>&lt;int&gt;</th></tr>\n",
       "</thead>\n",
       "<tbody>\n",
       "\t<tr><th scope=row>1</th><td>2</td><td>2</td><td>2</td><td>2</td><td>2</td></tr>\n",
       "\t<tr><th scope=row>2</th><td>7</td><td>7</td><td>7</td><td>7</td><td>7</td></tr>\n",
       "\t<tr><th scope=row>3</th><td>7</td><td>2</td><td>2</td><td>7</td><td>7</td></tr>\n",
       "\t<tr><th scope=row>4</th><td>2</td><td>2</td><td>2</td><td>2</td><td>2</td></tr>\n",
       "\t<tr><th scope=row>5</th><td>2</td><td>2</td><td>2</td><td>2</td><td>2</td></tr>\n",
       "</tbody>\n",
       "</table>\n"
      ],
      "text/latex": [
       "A data.frame: 5 × 5\n",
       "\\begin{tabular}{r|lllll}\n",
       "  & V1 & V2 & V3 & V4 & V5\\\\\n",
       "  & <int> & <int> & <int> & <int> & <int>\\\\\n",
       "\\hline\n",
       "\t1 & 2 & 2 & 2 & 2 & 2\\\\\n",
       "\t2 & 7 & 7 & 7 & 7 & 7\\\\\n",
       "\t3 & 7 & 2 & 2 & 7 & 7\\\\\n",
       "\t4 & 2 & 2 & 2 & 2 & 2\\\\\n",
       "\t5 & 2 & 2 & 2 & 2 & 2\\\\\n",
       "\\end{tabular}\n"
      ],
      "text/markdown": [
       "\n",
       "A data.frame: 5 × 5\n",
       "\n",
       "| <!--/--> | V1 &lt;int&gt; | V2 &lt;int&gt; | V3 &lt;int&gt; | V4 &lt;int&gt; | V5 &lt;int&gt; |\n",
       "|---|---|---|---|---|---|\n",
       "| 1 | 2 | 2 | 2 | 2 | 2 |\n",
       "| 2 | 7 | 7 | 7 | 7 | 7 |\n",
       "| 3 | 7 | 2 | 2 | 7 | 7 |\n",
       "| 4 | 2 | 2 | 2 | 2 | 2 |\n",
       "| 5 | 2 | 2 | 2 | 2 | 2 |\n",
       "\n"
      ],
      "text/plain": [
       "  V1 V2 V3 V4 V5\n",
       "1 2  2  2  2  2 \n",
       "2 7  7  7  7  7 \n",
       "3 7  2  2  7  7 \n",
       "4 2  2  2  2  2 \n",
       "5 2  2  2  2  2 "
      ]
     },
     "metadata": {},
     "output_type": "display_data"
    }
   ],
   "source": [
    "res_TC[1:5,1:5]"
   ]
  },
  {
   "cell_type": "markdown",
   "id": "ccb3b88e",
   "metadata": {},
   "source": [
    "**To derive the final results, one approach is to compute the maximum value from each trajectory after the burn-in period for every cell.**"
   ]
  },
  {
   "cell_type": "code",
   "execution_count": 29,
   "id": "127d8cf4",
   "metadata": {},
   "outputs": [
    {
     "data": {
      "text/html": [
       "<style>\n",
       ".dl-inline {width: auto; margin:0; padding: 0}\n",
       ".dl-inline>dt, .dl-inline>dd {float: none; width: auto; display: inline-block}\n",
       ".dl-inline>dt::after {content: \":\\0020\"; padding-right: .5ex}\n",
       ".dl-inline>dt:not(:first-of-type) {padding-left: .5ex}\n",
       "</style><dl class=dl-inline><dt>V1</dt><dd>2</dd><dt>V2</dt><dd>2</dd><dt>V3</dt><dd>2</dd><dt>V4</dt><dd>2</dd><dt>V5</dt><dd>2</dd><dt>V6</dt><dd>7</dd></dl>\n"
      ],
      "text/latex": [
       "\\begin{description*}\n",
       "\\item[V1] 2\n",
       "\\item[V2] 2\n",
       "\\item[V3] 2\n",
       "\\item[V4] 2\n",
       "\\item[V5] 2\n",
       "\\item[V6] 7\n",
       "\\end{description*}\n"
      ],
      "text/markdown": [
       "V1\n",
       ":   2V2\n",
       ":   2V3\n",
       ":   2V4\n",
       ":   2V5\n",
       ":   2V6\n",
       ":   7\n",
       "\n"
      ],
      "text/plain": [
       "V1 V2 V3 V4 V5 V6 \n",
       " 2  2  2  2  2  7 "
      ]
     },
     "metadata": {},
     "output_type": "display_data"
    }
   ],
   "source": [
    "most_frequent_element <- function(wektor) wektor[which.max(table(wektor))]\n",
    "final_result <- apply(res_TC[40:nrow(res_TC),], 2, most_frequent_element)\n",
    "head(final_result) "
   ]
  }
 ],
 "metadata": {
  "kernelspec": {
   "display_name": "R",
   "language": "R",
   "name": "ir"
  },
  "language_info": {
   "codemirror_mode": "r",
   "file_extension": ".r",
   "mimetype": "text/x-r-source",
   "name": "R",
   "pygments_lexer": "r",
   "version": "4.2.1"
  }
 },
 "nbformat": 4,
 "nbformat_minor": 5
}
